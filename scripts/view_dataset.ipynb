{
 "cells": [
  {
   "attachments": {},
   "cell_type": "markdown",
   "metadata": {},
   "source": [
    "Here I will visual a set of images from the sampled HAGRID dataset. "
   ]
  },
  {
   "cell_type": "code",
   "execution_count": null,
   "metadata": {},
   "outputs": [],
   "source": [
    "from matplotlib import pyplot as plt\n",
    "from mpl_toolkits.axes_grid1 import ImageGrid\n",
    "\n",
    "import cv2 as cv\n",
    "import os\n",
    "import sys"
   ]
  },
  {
   "cell_type": "code",
   "execution_count": null,
   "metadata": {},
   "outputs": [],
   "source": [
    "root_dir = \"D:/dataset/train\"\n",
    "\n",
    "list_of_dirs = os.listdir(root_dir)\n",
    "\n",
    "for i, dir in enumerate(list_of_dirs):\n",
    "    my_gesture_path = os.path.join(root_dir, dir)\n",
    "\n",
    "    print(my_gesture_path)\n",
    "    print(\"----------\")\n",
    "\n",
    "    list_of_filenames = os.listdir(my_gesture_path)\n",
    "\n",
    "    if len(list_of_filenames) == 0:\n",
    "        continue\n",
    "\n",
    "    sample_filenames = [os.path.join(my_gesture_path, list_of_filenames[i]) for i in range(4)]\n",
    "\n",
    "    fig = plt.figure(figsize=(6,6))\n",
    "    grid = ImageGrid(fig, 111, nrows_ncols=(2,2), axes_pad=0.1)\n",
    "\n",
    "    for ax, filename in zip(grid, sample_filenames):\n",
    "        img = cv.imread(filename)\n",
    "        img = cv.cvtColor(img, cv.COLOR_BGR2RGB)\n",
    "        ax.axis('off')\n",
    "        ax.imshow(img)\n",
    "\n",
    "    print(\"Done\")"
   ]
  }
 ],
 "metadata": {
  "kernelspec": {
   "display_name": "Python 3",
   "language": "python",
   "name": "python3"
  },
  "language_info": {
   "codemirror_mode": {
    "name": "ipython",
    "version": 3
   },
   "file_extension": ".py",
   "mimetype": "text/x-python",
   "name": "python",
   "nbconvert_exporter": "python",
   "pygments_lexer": "ipython3",
   "version": "3.8.10"
  },
  "orig_nbformat": 4
 },
 "nbformat": 4,
 "nbformat_minor": 2
}

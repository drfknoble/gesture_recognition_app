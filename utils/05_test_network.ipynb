{
 "cells": [
  {
   "attachments": {},
   "cell_type": "markdown",
   "metadata": {},
   "source": [
    "Here, I will test the fine-tuned model."
   ]
  },
  {
   "cell_type": "code",
   "execution_count": null,
   "metadata": {},
   "outputs": [],
   "source": [
    "from matplotlib import pyplot as plt\n",
    "from torch import nn, optim\n",
    "from torchvision import datasets, models, transforms\n",
    "\n",
    "import copy\n",
    "import os\n",
    "import time\n",
    "import torch\n",
    "import torchvision\n",
    "\n",
    "print(\"PyTorch Version: \", torch.__version__)\n",
    "print(\"Torchvision Version: \", torchvision.__version__)\n",
    "\n",
    "torch.set_printoptions(precision=3, sci_mode=False)"
   ]
  },
  {
   "cell_type": "code",
   "execution_count": null,
   "metadata": {},
   "outputs": [],
   "source": [
    "data_dir = 'D:/my_gestures'\n",
    "\n",
    "model_name = '02_MobileNet_V3_Small_Weights'\n",
    "\n",
    "classes = ['fist', 'one', 'two', 'three', 'four', 'five']\n",
    "num_classes = len(classes)\n",
    "\n",
    "batch_size = 1\n",
    "\n",
    "num_epochs = 1\n",
    "\n",
    "feature_extract = False\n",
    "\n",
    "device = torch.device(\"cuda:0\" if torch.cuda.is_available() else \"cpu\")\n",
    "print(device)"
   ]
  },
  {
   "cell_type": "code",
   "execution_count": null,
   "metadata": {},
   "outputs": [],
   "source": [
    "model = torch.load(\"./saved_models/02_MobileNet_V3_Small_Weights.pth\")\n",
    "\n",
    "model = model.to(device)"
   ]
  },
  {
   "cell_type": "code",
   "execution_count": null,
   "metadata": {},
   "outputs": [],
   "source": [
    "data_transforms = {\n",
    "    'train': transforms.Compose([\n",
    "        transforms.ToTensor(),\n",
    "    ]),\n",
    "    'val': transforms.Compose([\n",
    "        transforms.ToTensor(),\n",
    "    ]),\n",
    "}\n",
    "\n",
    "image_datasets = {x: datasets.ImageFolder(os.path.join(data_dir, x), data_transforms[x]) for x in ['train', 'val']}\n",
    "dataloaders_dict = {x: torch.utils.data.DataLoader(image_datasets[x], batch_size=batch_size, shuffle=True, num_workers=4) for x in ['train', 'val']}"
   ]
  },
  {
   "cell_type": "code",
   "execution_count": null,
   "metadata": {},
   "outputs": [],
   "source": [
    "img = next(iter(dataloaders_dict['val']))\n",
    "disp = img[0].permute(0, 2, 3, 1)\n",
    "plt.imshow(disp[0])\n",
    "\n",
    "model.eval()\n",
    "with torch.no_grad():\n",
    "    tensor = img[0].to(device)\n",
    "    start = time.perf_counter()\n",
    "    pred = model(tensor)\n",
    "    end = (time.perf_counter() - start) * 1000\n",
    "    print(f\"{end:.2f}ms\")\n",
    "    print(pred)\n",
    "    predicted = classes[pred[0].argmax(0)]\n",
    "    sm = torch.nn.Softmax(1)(pred)\n",
    "    print(sm)\n",
    "    confidence = sm[0][pred[0].argmax(0)]\n",
    "    print(f'predicted: {predicted}, confidence: {confidence * 100:.2f} %')"
   ]
  }
 ],
 "metadata": {
  "kernelspec": {
   "display_name": "Python 3",
   "language": "python",
   "name": "python3"
  },
  "language_info": {
   "codemirror_mode": {
    "name": "ipython",
    "version": 3
   },
   "file_extension": ".py",
   "mimetype": "text/x-python",
   "name": "python",
   "nbconvert_exporter": "python",
   "pygments_lexer": "ipython3",
   "version": "3.8.10"
  },
  "orig_nbformat": 4
 },
 "nbformat": 4,
 "nbformat_minor": 2
}

{
 "cells": [
  {
   "attachments": {},
   "cell_type": "markdown",
   "metadata": {},
   "source": [
    "Here I will rename the files extracted from the HAGRID dataset."
   ]
  },
  {
   "cell_type": "code",
   "execution_count": null,
   "metadata": {},
   "outputs": [],
   "source": [
    "import numpy as np\n",
    "import os\n",
    "import shutil\n",
    "import sys\n"
   ]
  },
  {
   "cell_type": "code",
   "execution_count": null,
   "metadata": {},
   "outputs": [],
   "source": [
    "root_dir = \"D:/my_gestures\"\n",
    "\n",
    "training_path = os.path.join(root_dir, \"train\")\n",
    "testing_path = os.path.join(root_dir, \"val\")\n",
    "\n",
    "list_of_dirs = os.listdir(root_dir)\n",
    "\n",
    "for i, dir in enumerate(list_of_dirs):\n",
    "\n",
    "    if dir == \"train\" or dir == \"val\":\n",
    "        continue\n",
    "    \n",
    "    my_gesture_path = os.path.join(root_dir, dir)\n",
    "    my_training_path = os.path.join(training_path, dir)\n",
    "    my_testing_path = os.path.join(testing_path, dir)\n",
    "\n",
    "    print(my_gesture_path)\n",
    "    print(\"----------\")\n",
    "    \n",
    "    if not os.path.exists(my_training_path):\n",
    "        os.makedirs(my_training_path)\n",
    "\n",
    "    if not os.path.exists(my_testing_path):\n",
    "        os.makedirs(my_testing_path)\n",
    "\n",
    "    list_of_files = os.listdir(my_gesture_path)\n",
    "    np.random.shuffle(list_of_files)\n",
    "\n",
    "    split = np.uint32(np.floor(0.8*len(list_of_files)))\n",
    "    training_files = list_of_files[0:split]\n",
    "    testing_files = list_of_files[split:len(list_of_files)]\n",
    "\n",
    "    for j, training_file in enumerate(training_files):\n",
    "        old_name = os.path.join(my_gesture_path, training_file)\n",
    "        new_name = os.path.join(my_training_path, f\"{j}.jpg\".zfill(4))\n",
    "\n",
    "        shutil.copy2(old_name, new_name)\n",
    "\n",
    "    for j, testing_file in enumerate(testing_files):\n",
    "        old_name = os.path.join(my_gesture_path, testing_file)\n",
    "        new_name = os.path.join(my_testing_path, f\"{j}.jpg\".zfill(4))\n",
    "\n",
    "        shutil.copy2(old_name, new_name)\n",
    "\n",
    "    print(\"Done\")"
   ]
  }
 ],
 "metadata": {
  "kernelspec": {
   "display_name": "Python 3",
   "language": "python",
   "name": "python3"
  },
  "language_info": {
   "codemirror_mode": {
    "name": "ipython",
    "version": 3
   },
   "file_extension": ".py",
   "mimetype": "text/x-python",
   "name": "python",
   "nbconvert_exporter": "python",
   "pygments_lexer": "ipython3",
   "version": "3.8.10"
  },
  "orig_nbformat": 4
 },
 "nbformat": 4,
 "nbformat_minor": 2
}

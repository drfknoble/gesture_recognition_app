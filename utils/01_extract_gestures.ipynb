{
 "cells": [
  {
   "attachments": {},
   "cell_type": "markdown",
   "metadata": {},
   "source": [
    "Here, I will extract hand gestures from the HAnd Gesture Recognition Image Datset (HAGRID)."
   ]
  },
  {
   "cell_type": "code",
   "execution_count": null,
   "metadata": {},
   "outputs": [],
   "source": [
    "import cv2 as cv\n",
    "import matplotlib.pyplot as plt\n",
    "import mediapipe as mp\n",
    "import numpy as np\n",
    "import os"
   ]
  },
  {
   "cell_type": "code",
   "execution_count": null,
   "metadata": {},
   "outputs": [],
   "source": [
    "mp_hands = mp.solutions.hands\n",
    "\n",
    "hands = mp_hands.Hands(static_image_mode=True, max_num_hands=2, min_detection_confidence=0.8)\n",
    "\n",
    "mp_drawing = mp.solutions.drawing_utils"
   ]
  },
  {
   "cell_type": "code",
   "execution_count": null,
   "metadata": {},
   "outputs": [],
   "source": [
    "root_dir = \"D:/\"\n",
    "\n",
    "list_of_dirs = os.listdir(os.path.join(root_dir, \"gestures\"))\n",
    "\n",
    "for i, dir in enumerate(list_of_dirs):\n",
    "    gesture_path = os.path.join(root_dir, \"gestures\", dir)\n",
    "    my_gesture_path = os.path.join(root_dir, \"my_gestures\", dir)\n",
    "\n",
    "    if not os.path.exists(my_gesture_path):\n",
    "        os.makedirs(my_gesture_path)\n",
    "\n",
    "    print(my_gesture_path)\n",
    "    print(\"----------\")\n",
    "\n",
    "    list_of_filenames = os.listdir(gesture_path)\n",
    "    \n",
    "    for j, filename in enumerate(list_of_filenames):\n",
    "        \n",
    "        file = os.path.join(gesture_path, filename)\n",
    "        \n",
    "        try:\n",
    "            input_img = cv.imread(file)\n",
    "\n",
    "            if input_img is None:\n",
    "                continue\n",
    "            \n",
    "            img = cv.cvtColor(input_img, cv.COLOR_BGR2RGB)\n",
    "\n",
    "            results = hands.process(img)\n",
    "\n",
    "            if not results.multi_hand_landmarks:\n",
    "                continue\n",
    "\n",
    "            for hand_lms in results.multi_hand_landmarks:\n",
    "            \n",
    "                rows, cols, channels = img.shape\n",
    "                    \n",
    "                x_min = cols\n",
    "                y_min = rows\n",
    "                x_max = 0\n",
    "                y_max = 0\n",
    "                delta_x = 0\n",
    "                delta_y = 0                   \n",
    "\n",
    "                for n in hand_lms.landmark:\n",
    "                    x = n.x * cols\n",
    "                    y = n.y * rows\n",
    "\n",
    "                    if x < x_min:\n",
    "                        x_min = np.uint32(x)\n",
    "                    if y < y_min:\n",
    "                        y_min = np.uint32(y)\n",
    "\n",
    "                    if x > x_max:\n",
    "                        x_max = np.uint32(x)\n",
    "                    if y > y_max:\n",
    "                        y_max = np.uint32(y)\n",
    "\n",
    "                delta_x = x_max - x_min\n",
    "                delta_y = y_max - y_min\n",
    "\n",
    "                multiples = 0\n",
    "                for n in range(np.max(img.shape) // 28):\n",
    "                    if ((n * 28) > delta_x) and ((n * 28) > delta_y):\n",
    "                        multiples = n\n",
    "                        break\n",
    "\n",
    "                multiples += 2\n",
    "\n",
    "                centre_x = x_min + delta_x // 2\n",
    "                centre_y = y_min + delta_y // 2\n",
    "\n",
    "                x_min = centre_x - (multiples * 28) // 2\n",
    "                y_min = centre_y - (multiples * 28) // 2\n",
    "                x_max = centre_x + (multiples * 28) // 2\n",
    "                y_max = centre_y + (multiples * 28) // 2\n",
    "\n",
    "                hand_fs = input_img[y_min:y_max, x_min:x_max, :]          \n",
    "                hand_rs = cv.resize(hand_fs, (224, 224))\n",
    "\n",
    "                cv.imwrite(os.path.join(my_gesture_path, f\"{j}.jpg\"), hand_rs)\n",
    "\n",
    "        except Exception as e:\n",
    "            print(e)\n",
    "            continue\n",
    "    \n",
    "    print(\"Done\")"
   ]
  },
  {
   "attachments": {},
   "cell_type": "markdown",
   "metadata": {},
   "source": [
    "Afterwards, need to go through exported images and delete wrong ones."
   ]
  }
 ],
 "metadata": {
  "kernelspec": {
   "display_name": "Python 3",
   "language": "python",
   "name": "python3"
  },
  "language_info": {
   "codemirror_mode": {
    "name": "ipython",
    "version": 3
   },
   "file_extension": ".py",
   "mimetype": "text/x-python",
   "name": "python",
   "nbconvert_exporter": "python",
   "pygments_lexer": "ipython3",
   "version": "3.8.10"
  },
  "orig_nbformat": 4
 },
 "nbformat": 4,
 "nbformat_minor": 2
}
